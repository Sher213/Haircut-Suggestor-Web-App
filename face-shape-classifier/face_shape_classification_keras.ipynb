{
 "cells": [
  {
   "cell_type": "code",
   "execution_count": 1,
   "metadata": {},
   "outputs": [],
   "source": [
    "import tensorflow as tf\n",
    "from tensorflow import keras\n",
    "from keras import layers"
   ]
  },
  {
   "cell_type": "code",
   "execution_count": 4,
   "metadata": {},
   "outputs": [
    {
     "name": "stdout",
     "output_type": "stream",
     "text": [
      "Found 500 files belonging to 5 classes.\n",
      "Using 400 files for training.\n",
      "Using 100 files for validation.\n"
     ]
    }
   ],
   "source": [
    "image_size = (200, 200)\n",
    "batch_size = 128\n",
    "\n",
    "train_ds, val_ds = tf.keras.utils.image_dataset_from_directory(\n",
    "    \"images_in\",\n",
    "    validation_split=0.2,\n",
    "    subset=\"both\",\n",
    "    seed=1337,\n",
    "    image_size=image_size,\n",
    "    batch_size=batch_size,\n",
    ")"
   ]
  },
  {
   "cell_type": "code",
   "execution_count": 7,
   "metadata": {},
   "outputs": [],
   "source": [
    "data_augmentation = keras.Sequential(\n",
    "    [\n",
    "        layers.RandomFlip(\"horizontal\"),\n",
    "        layers.RandomRotation(0.1),\n",
    "    ]\n",
    ")"
   ]
  },
  {
   "cell_type": "code",
   "execution_count": 10,
   "metadata": {},
   "outputs": [],
   "source": [
    "# Apply `data_augmentation` to the training images.\n",
    "train_ds = train_ds.map(\n",
    "    lambda img, label: (data_augmentation(img), label),\n",
    "    num_parallel_calls=tf.data.AUTOTUNE,\n",
    ")\n",
    "# Prefetching samples in GPU memory helps maximize GPU utilization.\n",
    "train_ds = train_ds.prefetch(tf.data.AUTOTUNE)\n",
    "val_ds = val_ds.prefetch(tf.data.AUTOTUNE)"
   ]
  },
  {
   "cell_type": "code",
   "execution_count": 12,
   "metadata": {},
   "outputs": [
    {
     "name": "stdout",
     "output_type": "stream",
     "text": [
      "You must install pydot (`pip install pydot`) and install graphviz (see instructions at https://graphviz.gitlab.io/download/) for plot_model to work.\n"
     ]
    }
   ],
   "source": [
    "def make_model(input_shape, num_classes):\n",
    "    inputs = keras.Input(shape=input_shape)\n",
    "\n",
    "    # Entry block\n",
    "    x = layers.Rescaling(1.0 / 255)(inputs)\n",
    "    x = layers.Conv2D(128, 3, strides=2, padding=\"same\")(x)\n",
    "    x = layers.BatchNormalization()(x)\n",
    "    x = layers.Activation(\"relu\")(x)\n",
    "\n",
    "    previous_block_activation = x  # Set aside residual\n",
    "\n",
    "    for size in [256, 512, 728]:\n",
    "        x = layers.Activation(\"relu\")(x)\n",
    "        x = layers.SeparableConv2D(size, 3, padding=\"same\")(x)\n",
    "        x = layers.BatchNormalization()(x)\n",
    "\n",
    "        x = layers.Activation(\"relu\")(x)\n",
    "        x = layers.SeparableConv2D(size, 3, padding=\"same\")(x)\n",
    "        x = layers.BatchNormalization()(x)\n",
    "\n",
    "        x = layers.MaxPooling2D(3, strides=2, padding=\"same\")(x)\n",
    "\n",
    "        # Project residual\n",
    "        residual = layers.Conv2D(size, 1, strides=2, padding=\"same\")(\n",
    "            previous_block_activation\n",
    "        )\n",
    "        x = layers.add([x, residual])  # Add back residual\n",
    "        previous_block_activation = x  # Set aside next residual\n",
    "\n",
    "    x = layers.SeparableConv2D(1024, 3, padding=\"same\")(x)\n",
    "    x = layers.BatchNormalization()(x)\n",
    "    x = layers.Activation(\"relu\")(x)\n",
    "\n",
    "    x = layers.GlobalAveragePooling2D()(x)\n",
    "    if num_classes == 2:\n",
    "        activation = \"sigmoid\"\n",
    "        units = 1\n",
    "    else:\n",
    "        activation = \"softmax\"\n",
    "        units = num_classes\n",
    "\n",
    "    x = layers.Dropout(0.5)(x)\n",
    "    outputs = layers.Dense(units, activation=activation)(x)\n",
    "    return keras.Model(inputs, outputs)\n",
    "\n",
    "\n",
    "model = make_model(input_shape=image_size + (3,), num_classes=2)"
   ]
  },
  {
   "cell_type": "code",
   "execution_count": 13,
   "metadata": {},
   "outputs": [
    {
     "name": "stdout",
     "output_type": "stream",
     "text": [
      "Epoch 1/25\n",
      "4/4 [==============================] - 513s 111s/step - loss: 0.5494 - accuracy: 0.1850 - val_loss: 0.5476 - val_accuracy: 0.2000\n",
      "Epoch 2/25\n",
      "4/4 [==============================] - 505s 112s/step - loss: -2.5458 - accuracy: 0.2025 - val_loss: 0.3863 - val_accuracy: 0.2000\n",
      "Epoch 3/25\n",
      "4/4 [==============================] - 1671s 499s/step - loss: -4.8767 - accuracy: 0.1975 - val_loss: 0.2000 - val_accuracy: 0.2000\n",
      "Epoch 4/25\n",
      "4/4 [==============================] - 541s 120s/step - loss: -7.3633 - accuracy: 0.2000 - val_loss: -0.0128 - val_accuracy: 0.2000\n",
      "Epoch 5/25\n",
      "4/4 [==============================] - 551s 122s/step - loss: -9.2542 - accuracy: 0.1975 - val_loss: -0.2482 - val_accuracy: 0.2000\n",
      "Epoch 6/25\n",
      "4/4 [==============================] - 587s 136s/step - loss: -11.4506 - accuracy: 0.2000 - val_loss: -0.5107 - val_accuracy: 0.2000\n",
      "Epoch 7/25\n",
      "4/4 [==============================] - 574s 125s/step - loss: -13.5229 - accuracy: 0.2000 - val_loss: -0.8047 - val_accuracy: 0.2000\n",
      "Epoch 8/25\n",
      "4/4 [==============================] - 558s 126s/step - loss: -15.3937 - accuracy: 0.1950 - val_loss: -1.1240 - val_accuracy: 0.2000\n",
      "Epoch 9/25\n",
      "4/4 [==============================] - 544s 119s/step - loss: -16.8797 - accuracy: 0.2000 - val_loss: -1.4504 - val_accuracy: 0.2000\n",
      "Epoch 10/25\n",
      "4/4 [==============================] - 572s 129s/step - loss: -18.8069 - accuracy: 0.2000 - val_loss: -1.8162 - val_accuracy: 0.2000\n",
      "Epoch 11/25\n",
      "4/4 [==============================] - 566s 127s/step - loss: -20.6001 - accuracy: 0.2000 - val_loss: -2.2431 - val_accuracy: 0.2000\n",
      "Epoch 12/25\n",
      "4/4 [==============================] - 565s 127s/step - loss: -22.9604 - accuracy: 0.2000 - val_loss: -2.7444 - val_accuracy: 0.2000\n",
      "Epoch 13/25\n",
      "4/4 [==============================] - 528s 118s/step - loss: -25.4244 - accuracy: 0.2000 - val_loss: -3.2940 - val_accuracy: 0.2000\n",
      "Epoch 14/25\n",
      "4/4 [==============================] - 550s 122s/step - loss: -26.8831 - accuracy: 0.2000 - val_loss: -3.8909 - val_accuracy: 0.2000\n",
      "Epoch 15/25\n",
      "4/4 [==============================] - 541s 122s/step - loss: -29.7337 - accuracy: 0.2000 - val_loss: -4.4485 - val_accuracy: 0.2000\n",
      "Epoch 16/25\n",
      "4/4 [==============================] - 562s 125s/step - loss: -32.0171 - accuracy: 0.2000 - val_loss: -5.1949 - val_accuracy: 0.2000\n",
      "Epoch 17/25\n",
      "4/4 [==============================] - 552s 122s/step - loss: -34.4859 - accuracy: 0.2000 - val_loss: -6.0837 - val_accuracy: 0.2000\n",
      "Epoch 18/25\n",
      "4/4 [==============================] - 559s 124s/step - loss: -37.3246 - accuracy: 0.2000 - val_loss: -6.8391 - val_accuracy: 0.2000\n",
      "Epoch 19/25\n",
      "4/4 [==============================] - 562s 130s/step - loss: -39.2236 - accuracy: 0.2000 - val_loss: -7.7100 - val_accuracy: 0.2000\n",
      "Epoch 20/25\n",
      "4/4 [==============================] - 562s 123s/step - loss: -41.2525 - accuracy: 0.2000 - val_loss: -8.6198 - val_accuracy: 0.2000\n",
      "Epoch 21/25\n",
      "4/4 [==============================] - 544s 121s/step - loss: -43.7793 - accuracy: 0.2000 - val_loss: -10.0695 - val_accuracy: 0.2000\n",
      "Epoch 22/25\n",
      "4/4 [==============================] - 517s 120s/step - loss: -46.8378 - accuracy: 0.2000 - val_loss: -11.5990 - val_accuracy: 0.2000\n",
      "Epoch 23/25\n",
      "4/4 [==============================] - 544s 120s/step - loss: -48.7606 - accuracy: 0.2000 - val_loss: -13.0237 - val_accuracy: 0.2000\n",
      "Epoch 24/25\n",
      "4/4 [==============================] - 547s 122s/step - loss: -51.5746 - accuracy: 0.2000 - val_loss: -15.4390 - val_accuracy: 0.2000\n",
      "Epoch 25/25\n",
      "4/4 [==============================] - 544s 117s/step - loss: -56.9671 - accuracy: 0.2000 - val_loss: -17.6119 - val_accuracy: 0.2000\n"
     ]
    },
    {
     "data": {
      "text/plain": [
       "<keras.src.callbacks.History at 0x2b0b06a4f90>"
      ]
     },
     "execution_count": 13,
     "metadata": {},
     "output_type": "execute_result"
    }
   ],
   "source": [
    "epochs = 25\n",
    "\n",
    "model.compile(\n",
    "    optimizer=keras.optimizers.Adam(1e-3),\n",
    "    loss=\"binary_crossentropy\",\n",
    "    metrics=[\"accuracy\"],\n",
    ")\n",
    "model.fit(\n",
    "    train_ds,\n",
    "    epochs=epochs,\n",
    "    validation_data=val_ds,\n",
    ")"
   ]
  },
  {
   "cell_type": "code",
   "execution_count": 14,
   "metadata": {},
   "outputs": [
    {
     "name": "stderr",
     "output_type": "stream",
     "text": [
      "c:\\Users\\alish\\Anaconda3\\Lib\\site-packages\\keras\\src\\engine\\training.py:3079: UserWarning: You are saving your model as an HDF5 file via `model.save()`. This file format is considered legacy. We recommend using instead the native Keras format, e.g. `model.save('my_model.keras')`.\n",
      "  saving_api.save_model(\n"
     ]
    }
   ],
   "source": [
    "model.save('model_face_classifier.h5')"
   ]
  }
 ],
 "metadata": {
  "kernelspec": {
   "display_name": "base",
   "language": "python",
   "name": "python3"
  },
  "language_info": {
   "codemirror_mode": {
    "name": "ipython",
    "version": 3
   },
   "file_extension": ".py",
   "mimetype": "text/x-python",
   "name": "python",
   "nbconvert_exporter": "python",
   "pygments_lexer": "ipython3",
   "version": "3.11.5"
  }
 },
 "nbformat": 4,
 "nbformat_minor": 2
}
