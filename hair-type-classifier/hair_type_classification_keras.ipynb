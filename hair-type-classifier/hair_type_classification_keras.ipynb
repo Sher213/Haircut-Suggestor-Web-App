{
 "cells": [
  {
   "cell_type": "code",
   "execution_count": 13,
   "metadata": {},
   "outputs": [],
   "source": [
    "import tensorflow as tf\n",
    "from tensorflow import keras\n",
    "from keras import layers"
   ]
  },
  {
   "cell_type": "code",
   "execution_count": 25,
   "metadata": {},
   "outputs": [],
   "source": [
    "import os\n",
    "dirs = 'images'\n",
    "\n",
    "for dir in os.listdir(dirs):\n",
    "    for image_name in os.listdir(os.path.join(dirs,dir)):\n",
    "        if image_name.endswith('.jpeg') or image_name.endswith('.jpg') or image_name.endswith('.png') or image_name.endswith('.bmp'):\n",
    "            continue\n",
    "        else:\n",
    "            print(image_name)\n",
    "            os.remove(os.path.join(dirs, dir, image_name))"
   ]
  },
  {
   "cell_type": "code",
   "execution_count": 26,
   "metadata": {},
   "outputs": [
    {
     "name": "stdout",
     "output_type": "stream",
     "text": [
      "Found 439 files belonging to 3 classes.\n",
      "Using 352 files for training.\n",
      "Using 87 files for validation.\n"
     ]
    }
   ],
   "source": [
    "image_size = (200, 200)\n",
    "batch_size = 128\n",
    "\n",
    "train_ds, val_ds = tf.keras.utils.image_dataset_from_directory(\n",
    "    \"images\",\n",
    "    validation_split=0.2,\n",
    "    subset=\"both\",\n",
    "    seed=1337,\n",
    "    image_size=image_size,\n",
    "    batch_size=batch_size,\n",
    ")"
   ]
  },
  {
   "cell_type": "code",
   "execution_count": 27,
   "metadata": {},
   "outputs": [],
   "source": [
    "data_augmentation = keras.Sequential(\n",
    "    [\n",
    "        layers.RandomFlip(\"horizontal\"),\n",
    "        layers.RandomRotation(0.1),\n",
    "    ]\n",
    ")"
   ]
  },
  {
   "cell_type": "code",
   "execution_count": 28,
   "metadata": {},
   "outputs": [],
   "source": [
    "# Apply `data_augmentation` to the training images.\n",
    "train_ds = train_ds.map(\n",
    "    lambda img, label: (data_augmentation(img), label),\n",
    "    num_parallel_calls=tf.data.AUTOTUNE,\n",
    ")\n",
    "# Prefetching samples in GPU memory helps maximize GPU utilization.\n",
    "train_ds = train_ds.prefetch(tf.data.AUTOTUNE)\n",
    "val_ds = val_ds.prefetch(tf.data.AUTOTUNE)"
   ]
  },
  {
   "cell_type": "code",
   "execution_count": 29,
   "metadata": {},
   "outputs": [],
   "source": [
    "def make_model(input_shape, num_classes):\n",
    "    inputs = keras.Input(shape=input_shape)\n",
    "\n",
    "    # Entry block\n",
    "    x = layers.Rescaling(1.0 / 255)(inputs)\n",
    "    x = layers.Conv2D(128, 3, strides=2, padding=\"same\")(x)\n",
    "    x = layers.BatchNormalization()(x)\n",
    "    x = layers.Activation(\"relu\")(x)\n",
    "\n",
    "    previous_block_activation = x  # Set aside residual\n",
    "\n",
    "    for size in [256, 512, 728]:\n",
    "        x = layers.Activation(\"relu\")(x)\n",
    "        x = layers.SeparableConv2D(size, 3, padding=\"same\")(x)\n",
    "        x = layers.BatchNormalization()(x)\n",
    "\n",
    "        x = layers.Activation(\"relu\")(x)\n",
    "        x = layers.SeparableConv2D(size, 3, padding=\"same\")(x)\n",
    "        x = layers.BatchNormalization()(x)\n",
    "\n",
    "        x = layers.MaxPooling2D(3, strides=2, padding=\"same\")(x)\n",
    "\n",
    "        # Project residual\n",
    "        residual = layers.Conv2D(size, 1, strides=2, padding=\"same\")(\n",
    "            previous_block_activation\n",
    "        )\n",
    "        x = layers.add([x, residual])  # Add back residual\n",
    "        previous_block_activation = x  # Set aside next residual\n",
    "\n",
    "    x = layers.SeparableConv2D(1024, 3, padding=\"same\")(x)\n",
    "    x = layers.BatchNormalization()(x)\n",
    "    x = layers.Activation(\"relu\")(x)\n",
    "\n",
    "    x = layers.GlobalAveragePooling2D()(x)\n",
    "    if num_classes == 2:\n",
    "        activation = \"sigmoid\"\n",
    "        units = 1\n",
    "    else:\n",
    "        activation = \"softmax\"\n",
    "        units = num_classes\n",
    "\n",
    "    x = layers.Dropout(0.5)(x)\n",
    "    outputs = layers.Dense(units, activation=activation)(x)\n",
    "    return keras.Model(inputs, outputs)\n",
    "\n",
    "\n",
    "model = make_model(input_shape=image_size + (3,), num_classes=2)"
   ]
  },
  {
   "cell_type": "code",
   "execution_count": 30,
   "metadata": {},
   "outputs": [
    {
     "name": "stdout",
     "output_type": "stream",
     "text": [
      "Epoch 1/25\n",
      "3/3 [==============================] - 570s 169s/step - loss: 0.1912 - accuracy: 0.2472 - val_loss: 0.6201 - val_accuracy: 0.3448\n",
      "Epoch 2/25\n",
      "3/3 [==============================] - 513s 161s/step - loss: -1.6789 - accuracy: 0.3381 - val_loss: 0.5401 - val_accuracy: 0.3448\n",
      "Epoch 3/25\n",
      "3/3 [==============================] - 517s 169s/step - loss: -2.8851 - accuracy: 0.3381 - val_loss: 0.4476 - val_accuracy: 0.3448\n",
      "Epoch 4/25\n",
      "3/3 [==============================] - 496s 156s/step - loss: -4.1182 - accuracy: 0.3295 - val_loss: 0.3351 - val_accuracy: 0.3448\n",
      "Epoch 5/25\n",
      "3/3 [==============================] - 503s 163s/step - loss: -5.1744 - accuracy: 0.3381 - val_loss: 0.2156 - val_accuracy: 0.3448\n",
      "Epoch 6/25\n",
      "3/3 [==============================] - 497s 155s/step - loss: -6.2883 - accuracy: 0.3210 - val_loss: 0.0704 - val_accuracy: 0.3448\n",
      "Epoch 7/25\n",
      "3/3 [==============================] - 515s 161s/step - loss: -7.1771 - accuracy: 0.3295 - val_loss: -0.0890 - val_accuracy: 0.3448\n",
      "Epoch 8/25\n",
      "3/3 [==============================] - 515s 162s/step - loss: -8.1517 - accuracy: 0.3267 - val_loss: -0.2586 - val_accuracy: 0.3448\n",
      "Epoch 9/25\n",
      "3/3 [==============================] - 489s 154s/step - loss: -9.0731 - accuracy: 0.3352 - val_loss: -0.4493 - val_accuracy: 0.3448\n",
      "Epoch 10/25\n",
      "3/3 [==============================] - 512s 163s/step - loss: -10.1084 - accuracy: 0.3295 - val_loss: -0.6615 - val_accuracy: 0.3448\n",
      "Epoch 11/25\n",
      "3/3 [==============================] - 502s 157s/step - loss: -11.2757 - accuracy: 0.3324 - val_loss: -0.8873 - val_accuracy: 0.3448\n",
      "Epoch 12/25\n",
      "3/3 [==============================] - 530s 171s/step - loss: -12.1362 - accuracy: 0.3295 - val_loss: -1.0967 - val_accuracy: 0.3448\n",
      "Epoch 13/25\n",
      "3/3 [==============================] - 495s 156s/step - loss: -13.2308 - accuracy: 0.3324 - val_loss: -1.3246 - val_accuracy: 0.3448\n",
      "Epoch 14/25\n",
      "3/3 [==============================] - 485s 153s/step - loss: -14.1149 - accuracy: 0.3324 - val_loss: -1.5503 - val_accuracy: 0.3448\n",
      "Epoch 15/25\n",
      "3/3 [==============================] - 494s 154s/step - loss: -14.9164 - accuracy: 0.3239 - val_loss: -1.7328 - val_accuracy: 0.3448\n",
      "Epoch 16/25\n",
      "3/3 [==============================] - 492s 154s/step - loss: -16.2322 - accuracy: 0.3295 - val_loss: -1.8621 - val_accuracy: 0.3448\n",
      "Epoch 17/25\n",
      "3/3 [==============================] - 496s 154s/step - loss: -17.2960 - accuracy: 0.3239 - val_loss: -2.0671 - val_accuracy: 0.3448\n",
      "Epoch 18/25\n",
      "3/3 [==============================] - 491s 154s/step - loss: -18.6741 - accuracy: 0.3295 - val_loss: -2.3340 - val_accuracy: 0.3448\n",
      "Epoch 19/25\n",
      "3/3 [==============================] - 501s 153s/step - loss: -20.0163 - accuracy: 0.3153 - val_loss: -2.6070 - val_accuracy: 0.3448\n",
      "Epoch 20/25\n",
      "3/3 [==============================] - 506s 159s/step - loss: -20.7305 - accuracy: 0.3210 - val_loss: -2.8777 - val_accuracy: 0.3448\n",
      "Epoch 21/25\n",
      "3/3 [==============================] - 474s 146s/step - loss: -22.1964 - accuracy: 0.3324 - val_loss: -3.0613 - val_accuracy: 0.3448\n",
      "Epoch 22/25\n",
      "3/3 [==============================] - 493s 155s/step - loss: -24.0948 - accuracy: 0.3409 - val_loss: -3.4691 - val_accuracy: 0.3448\n",
      "Epoch 23/25\n",
      "3/3 [==============================] - 491s 153s/step - loss: -25.7070 - accuracy: 0.3324 - val_loss: -3.9132 - val_accuracy: 0.3448\n",
      "Epoch 24/25\n",
      "3/3 [==============================] - 493s 156s/step - loss: -27.4060 - accuracy: 0.3267 - val_loss: -4.2506 - val_accuracy: 0.3448\n",
      "Epoch 25/25\n",
      "3/3 [==============================] - 505s 158s/step - loss: -28.1861 - accuracy: 0.3438 - val_loss: -4.5789 - val_accuracy: 0.3448\n"
     ]
    },
    {
     "data": {
      "text/plain": [
       "<keras.src.callbacks.History at 0x172c62ae710>"
      ]
     },
     "execution_count": 30,
     "metadata": {},
     "output_type": "execute_result"
    }
   ],
   "source": [
    "epochs = 25\n",
    "\n",
    "model.compile(\n",
    "    optimizer=keras.optimizers.Adam(1e-3),\n",
    "    loss=\"binary_crossentropy\",\n",
    "    metrics=[\"accuracy\"],\n",
    ")\n",
    "model.fit(\n",
    "    train_ds,\n",
    "    epochs=epochs,\n",
    "    validation_data=val_ds,\n",
    ")"
   ]
  },
  {
   "cell_type": "code",
   "execution_count": 31,
   "metadata": {},
   "outputs": [
    {
     "name": "stderr",
     "output_type": "stream",
     "text": [
      "c:\\Users\\alish\\Anaconda3\\Lib\\site-packages\\keras\\src\\engine\\training.py:3079: UserWarning: You are saving your model as an HDF5 file via `model.save()`. This file format is considered legacy. We recommend using instead the native Keras format, e.g. `model.save('my_model.keras')`.\n",
      "  saving_api.save_model(\n"
     ]
    }
   ],
   "source": [
    "model.save('model_hair_classifier.h5')"
   ]
  }
 ],
 "metadata": {
  "kernelspec": {
   "display_name": "base",
   "language": "python",
   "name": "python3"
  },
  "language_info": {
   "codemirror_mode": {
    "name": "ipython",
    "version": 3
   },
   "file_extension": ".py",
   "mimetype": "text/x-python",
   "name": "python",
   "nbconvert_exporter": "python",
   "pygments_lexer": "ipython3",
   "version": "3.11.5"
  }
 },
 "nbformat": 4,
 "nbformat_minor": 2
}
